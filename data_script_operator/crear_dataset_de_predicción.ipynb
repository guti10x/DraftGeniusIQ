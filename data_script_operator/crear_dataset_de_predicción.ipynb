{
 "cells": [
  {
   "cell_type": "markdown",
   "id": "00049ad5-4ca5-485c-9754-38782c598a8a",
   "metadata": {},
   "source": [
    "# Crear dataset de entrada para predecir"
   ]
  },
  {
   "cell_type": "code",
   "execution_count": 62,
   "id": "78eb7002-47b9-4a42-acb8-3394ba598349",
   "metadata": {
    "tags": []
   },
   "outputs": [],
   "source": [
    "import pandas as pd\n",
    "import os\n",
    "from unidecode import unidecode\n",
    "import Levenshtein "
   ]
  },
  {
   "cell_type": "markdown",
   "id": "5ed0903f-0235-4e44-aa3a-1296ad12f3b7",
   "metadata": {
    "tags": []
   },
   "source": [
    "#### Leer esxcell mercado/plantilla"
   ]
  },
  {
   "cell_type": "code",
   "execution_count": 67,
   "id": "30f0a179-4952-4a63-8d97-4c29a3631ce8",
   "metadata": {
    "tags": []
   },
   "outputs": [
    {
     "name": "stdout",
     "output_type": "stream",
     "text": [
      "['G. Mamardashvili', 'A. Pedraza', 'A. Rüdiger', 'E. García', 'Y. Couto', 'A. Baena', 'A. Tchouaméni', 'F. De Jong', 'M. Llorente', 'N. Maksimović', 'P. Torre', 'V. Tsygankov', 'Á. Morata', 'A. Douvikas', 'C. Ramos']\n",
      "15\n"
     ]
    }
   ],
   "source": [
    "# Ruta al archivo Excel\n",
    "archivo_excel = \"../mi_plantilla2023-12-27--18-45-S.xlsx\"\n",
    "\n",
    "# Lee el archivo Excel con pandas y especifica que no hay encabezado\n",
    "df = pd.read_excel(archivo_excel, header=None)\n",
    "\n",
    "# Obtén los valores de la primera columna (columna 0)\n",
    "valores_Mercado = df.iloc[:, 0].tolist()\n",
    "\n",
    "# Imprime o utiliza los valores según sea necesario\n",
    "print(valores_Mercado)\n",
    "print(len(valores_Mercado))"
   ]
  },
  {
   "cell_type": "markdown",
   "id": "4cd10bac-ab6f-4245-9adc-2cec33a3df9b",
   "metadata": {
    "tags": []
   },
   "source": [
    "#### Leer esxcell historico jugaodres"
   ]
  },
  {
   "cell_type": "code",
   "execution_count": 64,
   "id": "65c35a55-8fc1-4ab1-9b97-c0a70db1dc70",
   "metadata": {
    "tags": []
   },
   "outputs": [
    {
     "name": "stdout",
     "output_type": "stream",
     "text": [
      "['Jugador', 'Antonio Sivera', 'Andoni Gorosabel', 'Abdelkabir Abqar', 'Aleksandar Sedlar', 'David López', 'Javier López', 'Antonio Blanco', 'Ander Guevara', 'Ianis Hagi', 'Jon Guridi', 'Luis Rioja', 'Kike García', 'Luís Maximiano', 'Houboulang Mendes', ' Chumi', 'Édgar González', 'Sergio Akieme', 'Dion Lopy', 'Lucas Robertone', 'Arnau Puigmal', 'Gonzalo Melero', 'Largie Ramazani', 'Léo Baptistão', 'Samu Omorodion', 'Nahuel Tenaglia', 'Álex Sola', 'Rafa Marín', 'Jesús Owono', 'Nikola Maraš', 'Rubén Duarte', 'Xeber Alkain', 'Sergio Arribas', 'Adri Embarba', 'Iddrisu Baba', 'Marko Milovanovic', 'Marciano Sanca', 'Diego Mariño', 'Fernando Martínez', 'César Montes', 'Alex Centelles', 'Ibrahima Koné', 'Marc Pubill', 'Jon Karrikaburu', 'Abde Rebbach', 'Kaiky Fernandes', 'Álex Pozo', 'Lázaro Vinicius', 'Claudio Bravo', 'Héctor Bellerín', 'Germán Pezzella', 'Chadi Riad', 'Juan Miranda', 'Guido Rodríguez', 'Marc Roca', 'Assane Diao', ' Isco', 'Ayoze Pérez', 'Willian José', 'Predrag Rajković', 'Giovanni González', 'Martin Valjent', 'Antonio Raíllo', 'Matija Nastasić', 'Jaume Costa', 'Antonio Sánchez', 'Omar Mascarell', 'Samuel Costa', 'Vedat Muriqi', 'Cyle Larin', 'Luiz Henrique', 'William Carvalho', 'Nabil Fekir', 'Rui Silva', 'Aitor Ruibal', 'Abner Vinícius', 'Youssouf Sabaly', 'Sergi Altimira', 'Rodrigo Sanchez', 'Andrés Guardado', 'Sergi Darder', 'Pablo Maffeo', 'Dani Rodríguez', 'Manu Morlanes', 'Abdón Prats', 'Dominik Greif', 'Toni Lato', 'Siebe Van der Heyden', 'José Copete', 'Javi Llabrés', 'Borja Iglesias', 'Amath Ndiaye', 'Marc Bartra', 'Abde Ezzalzouli', 'Pichu Cuéllar', 'Vicente Guaita', 'Kevin Vázquez', 'Carl Starfelt', 'Unai Núñez', 'Manu Sánchez', 'Óscar Mingueza', 'Renato Tapia', 'Hugo Sotelo', 'Jonathan Bamba', 'Iago Aspas', 'Jørgen Strand Larsen', 'Ørjan Nyland', 'Jesús Navas', 'Loïc Badé', 'Nemanja Gudelj', 'Marcos Acuña', 'Djibril Sow', 'Boubakary Soumaré', 'Ivan Rakitić', 'Lucas Ocampos', 'Mariano Díaz', 'Óliver Torres', 'Carles Pérez', 'Carlos Dotor', 'Fran Beltrán', 'Anastasios Douvikas', 'Franco Cervi', 'Agustín Marchesín', 'Iván Villar', 'Carlos Dominguez', 'Adrià Pedrosa', 'Dodi Lukébakio', ' Suso', 'Youssef En Nesyri', 'Marko Dmitrović', 'Federico Gattoni', 'Tanguy Nianzou', 'Kike Salas', 'Joan Jordan', 'Erik Lamela', 'Juanlu Sánchez', 'Joseph Aidoo', ' Marcão', 'Williot Swedberg', 'Rafa Mir', 'Mihailo Ristić', 'Sergio Ramos', 'David Soria', 'Damián Suárez', 'Gastón Álvarez', 'Omar Alderete', 'Diego Rico', 'José Ángel Carmona', 'Nemanja Maksimović', 'Mason Greenwood', 'Borja Mayoral', 'Jaime Mata', 'Jeremías Ledesma', 'Iza Carcelén', 'Victor Chust', 'Javi Hernández', 'Lucas Pires', 'Robert Navarro', 'Rominigue Kouamé', 'Rubén Alcaraz', 'Darwin Machís', 'Roger Martí', 'Chris Ramos', 'Luis Milla', 'Juan Iglesias', 'Juanmi Latasa', 'Daniel Fuzato', 'Domingos Duarte', 'Fabrizio Angileri', 'Stefan Mitrović', 'Carles Aleñá', 'Óscar Rodríguez', 'Álex Fernández', 'Gonzalo Escalante', 'Sergi Guardiola', 'Álvaro Negredo', 'David Gil', 'Jorge Meré', 'Enes Ünal', 'Brian Ocampo', 'Iván Alejo', 'Fede San Emeterio', 'José Mari', 'Mauro Arambarri', 'Luis Hernández', 'Dakonam Djené', 'Maxi Gómez', 'Momo Mbaye', 'Choco Lozano', 'Álvaro Valles', 'Alex Suárez', 'Saúl Coco', 'Mika Mármol', 'Sergi Cardona', 'Marvin Park', 'Javi Muñoz', 'Máximo Perrone', 'Kirian Rodríguez', 'Alberto Moleiro', 'Munir El Haddadi', 'Jan Oblak', 'Nahuel Molina', 'Stefan Savić', 'Axel Witsel', 'Mario Hermoso', 'Rodrigo Riquelme', 'Rodrigo De Paul', ' Koke', 'Pablo Barrios', 'Antoine Griezmann', 'Álvaro Morata', 'Benito Ramírez', 'Enzo Loiodice', 'Julián Araujo', 'Sory Kaba', 'Aarón Escandell', 'Eric Curbelo', 'Juanma Herzog', 'Daley Sinkgraven', 'Omenuke Mfulu', 'Cristian Herrera', 'Marcos Llorente', 'Ángel Correa', 'Saúl Ñíguez', 'Javi Galán', 'Çağlar Söyüncü', 'Jonathan Viera', 'Memphis Depay', 'Samuel Lino', 'Thomas Lemar', 'Marc Cardona', 'César Azpilicueta', 'José Giménez', 'Sergio Herrera', 'Jesus Areso', 'Alejandro Catena', 'David García', 'Dani García', 'Johan Mojica', 'Lucas Torró', 'Moi Gómez', 'Maxi Gómez', 'Aimar Oroz', 'Rubén Peña', 'Ante Budimir', 'Paulo Gazzaniga', 'Arnau Martínez', 'Eric García', 'Daley Blind', 'Yan Couto', 'Aleix García', 'Yangel Herrera', 'Miguel Gutiérrez', 'Iván Martín', 'Artem Dovbyk', ' Sávio', ' Gavi', 'Rubén García', 'Raúl García', 'Kike Barja', 'Jon Moncayola', 'Aitor Fernández', 'Unai García', 'Jorge Herrando', 'Nacho Vidal', 'Darko Brašanac', 'Iker Muñoz', 'Viktor Tsygankov', 'Christian Stuani', 'Toni Fuidias', ' Juanpe', 'Valery Fernández', 'Bernardo Espinosa', 'Jhon Solís', 'Pablo Torre', 'David López', 'Toni Villa', 'Ibrahima Koné', 'Ibrahima Kébé', 'Juan Cruz', 'Juan Cruz', 'Borja García', 'Ezequiel Ávila', 'Pablo Ibáñez', 'Cristian Portu', 'José Arnaiz', 'Kepa Arrizabalaga', 'Dani Carvajal', 'Antonio Rüdiger', 'David Alaba', 'Fran García', 'Luka Modrić', 'Eduardo Camavinga', 'Jude Bellingham', ' Joselu', 'Vinícius Júnior', 'Stole Dimitrievski', 'Andrei Rațiu', 'Abdul Mumin', 'Florian Lejeune', 'Óscar Valentín', 'Isi Palazón', 'Unai López', 'Unai Gómez', 'Álvaro García', 'Raúl de Tomás', ' Rodrygo', 'Toni Kroos', 'Nacho Fernández', 'Andriy Lunin', 'Lucas Vázquez', 'Arda Güler', 'Nico Paz', 'Óscar Trejo', 'Kike Pérez', ' Bebé', 'Radamel Falcao', 'Jorge de Frutos', 'Dani Cárdenas', 'Martín Pascual', 'Aridane Hernández', 'Sergio Camello', 'Thibaut Courtois', 'Dani Ceballos', 'Aurélien Tchouaméni', 'Éder Militão', 'Brahim Díaz', 'Randy Nteka', 'Ferland Mendy', 'Fede Valverde', 'Pacha Espino', 'Pathé Ciss', 'Pep Chavarría', 'José Ángel Pozo', 'Alex Remiro', 'Hamari Traoré', 'Igor Zubeldia', 'Robin Le Normand', 'Aihen Muñoz', 'Brais Méndez', 'Mikel Merino', 'Martín Zubimendi', 'Takefusa Kubo', 'Mikel Oyarzabal', 'Ander Barrenetxea', 'Ronald Araújo', 'Jules Koundé', 'Íñigo Martínez', 'João Cancelo', ' Sávio', ' Gavi', 'İlkay Gündoğan', 'Alejandro Balde', 'Fermín López', 'Robert Lewandowski', 'João Félix', 'Aritz Elustondo', 'Mohamed-Ali Cho', 'Unai Marrero', 'Urko González', 'Álvaro Odriozola', 'Beñat Turrientes', 'Arsen Zakharyan', 'Pablo Marín', 'Jon Ander Olasagasti', ' Pedri', 'Ferran Torres', ' Raphinha', 'Lamine Yamal', 'Iñaki Peña', 'Andreas Christensen', 'Marcos Alonso', 'Kieran Tierney', 'André Silva', 'Frenkie De Jong', 'Umar Sadiq', 'Oriol Romeu', 'Martín Merquelanz', 'Sergi Roberto', 'Ter Stegen', 'Giorgi Mamardashvili', 'Thierry Correia', 'Cristhian Mosquera', 'Gabriel Paulista', 'José Luis Gayà', 'Fran Pérez', ' Pepelu', 'Javier Guerra', 'Selim Amallah', 'Diego López', 'Hugo Duro', 'André Ferreira', 'Ricard Sánchez', 'Ignasi Miquel', 'Raúl Torrente', 'Carlos Neva', 'Gonzalo Villar', 'Gerard Gumbau', 'Bryan Zaragoza', 'Myrto Uzuni', 'Óscar Melendo', 'Lucas Boyé', 'Sergi Canós', 'Dimitri Foulquier', 'Hugo Guillamón', 'Roman Yaremchuk', 'Jaume Doménech', 'Cristian Rivero', 'César Tárrega', 'Pablo Gozálbez', 'Antonio Puertas', 'Álvaro Fernández', 'Wilson Manafá', 'José Callejón', 'Adri López', 'Víctor Díaz', 'Njegoš Petrović', 'Famara Diédhiou', 'Shon Weissman', 'André Almeida', 'Cenk Özkacar', 'Jesús Vázquez', 'Alberto Marí', 'Jesús Vallejo', 'Hugo González', 'Alberto Perea', 'Mouctar Diakhaby', 'Raúl Fernández', 'Miki Bosch', 'Sergio Ruiz', 'Filip Jörgensen', 'Adrià Altimira', 'Raúl Albiol', 'Matteo Gabbia', 'Carlos Romero', 'Ilias Akhomach', 'Étienne Capoue', 'Dani Parejo', 'Alejandro Catena', 'Gerard Moreno', 'Alexander Sørloth', 'Unai Simón', 'Óscar De Marcos', 'Daniel Vivian', 'Aitor Paredes', 'Íñigo Lekue', 'Mikel Vesga', 'Iñigo Ruiz De Galarreta', 'Iñaki Williams', 'Oihan Sancet', 'Nico Williams', 'Gorka Guruzeta', 'Alberto Moreno', 'Aïssa Mandi', 'Kiko Femenía', 'Ramón Terrats', 'Pepe Reina', 'Jorge Cuenca', 'Santi Comesaña', 'Manu Trigueros', 'Ben Brereton Díaz', 'Álex Berenguer', 'Unai López', 'Unai Gómez', 'David García', 'Dani García', 'Santi García', 'Iker Muniain', 'Asier Villalibre', 'Julen Agirrezabala', 'Beñat Prados', 'Denis Suárez', 'Juan Foyth', 'Yéremi Pino', 'Yuri Berchiche', 'Yeray Álvarez', 'José Luis Morales', 'Francis Coquelin', 'Ander Herrera', 'Imanol García', 'Peru Nolaskoain', 'Malcom Adu Ares']\n"
     ]
    }
   ],
   "source": [
    "# Ruta al archivo Excel\n",
    "archivo_excel = \"../data/test_precedecir/dataset_training_without_Missing_Values_without_Useless_Atributes.xlsx\"\n",
    "\n",
    "# Lee el archivo Excel con pandas y especifica que no hay encabezado\n",
    "df = pd.read_excel(archivo_excel, header=None)\n",
    "\n",
    "# Obtén los valores de la primera columna (columna 0)\n",
    "valores_Historico = df.iloc[:, 0].tolist()\n",
    "\n",
    "# Imprime o utiliza los valores según sea necesario\n",
    "print(valores_Historico)"
   ]
  },
  {
   "cell_type": "code",
   "execution_count": 69,
   "id": "dd61360a-1423-4ce0-baeb-69109e8a1a06",
   "metadata": {
    "tags": []
   },
   "outputs": [
    {
     "name": "stdout",
     "output_type": "stream",
     "text": [
      "Diferencia encontrada: G. Mamardashvili != Jugador\n",
      "Diferencia encontrada: A. Pedraza != Antonio Sivera\n",
      "Diferencia encontrada: A. Rüdiger != Andoni Gorosabel\n",
      "Diferencia encontrada: E. García != Abdelkabir Abqar\n",
      "Diferencia encontrada: Y. Couto != Aleksandar Sedlar\n",
      "Diferencia encontrada: A. Baena != David López\n",
      "Diferencia encontrada: A. Tchouaméni != Javier López\n",
      "Diferencia encontrada: F. De Jong != Antonio Blanco\n",
      "Diferencia encontrada: M. Llorente != Ander Guevara\n",
      "Diferencia encontrada: N. Maksimović != Ianis Hagi\n",
      "Diferencia encontrada: P. Torre != Jon Guridi\n",
      "Diferencia encontrada: V. Tsygankov != Luis Rioja\n",
      "Diferencia encontrada: Á. Morata != Kike García\n",
      "Diferencia encontrada: A. Douvikas != Luís Maximiano\n",
      "Diferencia encontrada: C. Ramos != Houboulang Mendes\n"
     ]
    }
   ],
   "source": [
    "# Umbral de distancia para considerar coincidencias\n",
    "umbral_distancia = 5  # Puedes ajustar este umbral según tus necesidades\n",
    "\n",
    "# Itera sobre ambos arrays al mismo tiempo\n",
    "for nombre1, nombre2 in zip(valores_Mercado, valores_Historico):\n",
    "    # Calcula la distancia de Levenshtein entre los nombres\n",
    "    distancia = Levenshtein.distance(nombre1.lower(), nombre2.lower())\n",
    "\n",
    "    # Compara si la distancia es menor o igual al umbral\n",
    "    if distancia <= umbral_distancia:\n",
    "        print(f\"Coincidencia encontrada: {nombre1} == {nombre2}\")\n",
    "    else:\n",
    "        print(f\"Diferencia encontrada: {nombre1} != {nombre2}\")"
   ]
  },
  {
   "cell_type": "code",
   "execution_count": null,
   "id": "4c34d3e7-06f4-40ec-9159-cb5ed026bb59",
   "metadata": {},
   "outputs": [],
   "source": []
  }
 ],
 "metadata": {
  "kernelspec": {
   "display_name": "Python 3 (ipykernel)",
   "language": "python",
   "name": "python3"
  },
  "language_info": {
   "codemirror_mode": {
    "name": "ipython",
    "version": 3
   },
   "file_extension": ".py",
   "mimetype": "text/x-python",
   "name": "python",
   "nbconvert_exporter": "python",
   "pygments_lexer": "ipython3",
   "version": "3.11.5"
  }
 },
 "nbformat": 4,
 "nbformat_minor": 5
}
