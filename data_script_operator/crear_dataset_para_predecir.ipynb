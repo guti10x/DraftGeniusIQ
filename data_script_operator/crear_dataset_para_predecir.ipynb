{
 "cells": [
  {
   "cell_type": "markdown",
   "id": "c8336875-2e5e-41ca-9613-5dfb6840b234",
   "metadata": {},
   "source": [
    "# Crear dataset de entrada para predecir"
   ]
  },
  {
   "cell_type": "code",
   "execution_count": 2,
   "id": "ded0119a-abe9-4150-9631-75096b362de7",
   "metadata": {
    "tags": []
   },
   "outputs": [],
   "source": [
    "import pandas as pd\n",
    "import os\n",
    "from unidecode import unidecode\n",
    "import Levenshtein "
   ]
  },
  {
   "cell_type": "markdown",
   "id": "aec94f3d-c182-4be7-97dd-87a9b61e9de4",
   "metadata": {},
   "source": [
    "#### Leer esxcell mercado/plantilla"
   ]
  },
  {
   "cell_type": "code",
   "execution_count": 3,
   "id": "5fa08e46-6c17-4f49-95a4-e3c70238155e",
   "metadata": {
    "tags": []
   },
   "outputs": [
    {
     "name": "stdout",
     "output_type": "stream",
     "text": [
      "['G. Mamardashvili', 'A. Pedraza', 'A. Rüdiger', 'E. García', 'Y. Couto', 'A. Baena', 'A. Tchouaméni', 'F. De Jong', 'M. Llorente', 'N. Maksimović', 'P. Torre', 'V. Tsygankov', 'Á. Morata', 'A. Douvikas', 'C. Ramos']\n",
      "15\n"
     ]
    }
   ],
   "source": [
    "# Ruta al archivo Excel\n",
    "archivo_excel = \"../mi_plantilla2023-12-27--18-45-S.xlsx\"\n",
    "\n",
    "# Lee el archivo Excel con pandas y especifica que no hay encabezado\n",
    "df = pd.read_excel(archivo_excel, header=None)\n",
    "\n",
    "# Obtén los valores de la primera columna (columna 0)\n",
    "valores_Mercado = df.iloc[:, 0].tolist()\n",
    "\n",
    "# Imprime o utiliza los valores según sea necesario\n",
    "print(valores_Mercado)\n",
    "print(len(valores_Mercado))"
   ]
  },
  {
   "cell_type": "markdown",
   "id": "e147e780-1faa-4968-820a-9ea54929f19b",
   "metadata": {},
   "source": [
    "#### Leer esxcell historico jugaodres"
   ]
  },
  {
   "cell_type": "code",
   "execution_count": 4,
   "id": "afec48b7-2868-4afe-a710-7634b62a768a",
   "metadata": {
    "tags": []
   },
   "outputs": [
    {
     "name": "stdout",
     "output_type": "stream",
     "text": [
      "['Jugador', 'Antonio Sivera', 'Andoni Gorosabel', 'Abdelkabir Abqar', 'Aleksandar Sedlar', 'David López', 'Javier López', 'Antonio Blanco', 'Ander Guevara', 'Ianis Hagi', 'Jon Guridi', 'Luis Rioja', 'Kike García', 'Luís Maximiano', 'Houboulang Mendes', ' Chumi', 'Édgar González', 'Sergio Akieme', 'Dion Lopy', 'Lucas Robertone', 'Arnau Puigmal', 'Gonzalo Melero', 'Largie Ramazani', 'Léo Baptistão', 'Samu Omorodion', 'Nahuel Tenaglia', 'Álex Sola', 'Rafa Marín', 'Jesús Owono', 'Nikola Maraš', 'Rubén Duarte', 'Xeber Alkain', 'Sergio Arribas', 'Adri Embarba', 'Iddrisu Baba', 'Marko Milovanovic', 'Marciano Sanca', 'Diego Mariño', 'Fernando Martínez', 'César Montes', 'Alex Centelles', 'Ibrahima Koné', 'Marc Pubill', 'Jon Karrikaburu', 'Abde Rebbach', 'Kaiky Fernandes', 'Álex Pozo', 'Lázaro Vinicius', 'Claudio Bravo', 'Héctor Bellerín', 'Germán Pezzella', 'Chadi Riad', 'Juan Miranda', 'Guido Rodríguez', 'Marc Roca', 'Assane Diao', ' Isco', 'Ayoze Pérez', 'Willian José', 'Predrag Rajković', 'Giovanni González', 'Martin Valjent', 'Antonio Raíllo', 'Matija Nastasić', 'Jaume Costa', 'Antonio Sánchez', 'Omar Mascarell', 'Samuel Costa', 'Vedat Muriqi', 'Cyle Larin', 'Luiz Henrique', 'William Carvalho', 'Nabil Fekir', 'Rui Silva', 'Aitor Ruibal', 'Abner Vinícius', 'Youssouf Sabaly', 'Sergi Altimira', 'Rodrigo Sanchez', 'Andrés Guardado', 'Sergi Darder', 'Pablo Maffeo', 'Dani Rodríguez', 'Manu Morlanes', 'Abdón Prats', 'Dominik Greif', 'Toni Lato', 'Siebe Van der Heyden', 'José Copete', 'Javi Llabrés', 'Borja Iglesias', 'Amath Ndiaye', 'Marc Bartra', 'Abde Ezzalzouli', 'Pichu Cuéllar', 'Vicente Guaita', 'Kevin Vázquez', 'Carl Starfelt', 'Unai Núñez', 'Manu Sánchez', 'Óscar Mingueza', 'Renato Tapia', 'Hugo Sotelo', 'Jonathan Bamba', 'Iago Aspas', 'Jørgen Strand Larsen', 'Ørjan Nyland', 'Jesús Navas', 'Loïc Badé', 'Nemanja Gudelj', 'Marcos Acuña', 'Djibril Sow', 'Boubakary Soumaré', 'Ivan Rakitić', 'Lucas Ocampos', 'Mariano Díaz', 'Óliver Torres', 'Carles Pérez', 'Carlos Dotor', 'Fran Beltrán', 'Anastasios Douvikas', 'Franco Cervi', 'Agustín Marchesín', 'Iván Villar', 'Carlos Dominguez', 'Adrià Pedrosa', 'Dodi Lukébakio', ' Suso', 'Youssef En Nesyri', 'Marko Dmitrović', 'Federico Gattoni', 'Tanguy Nianzou', 'Kike Salas', 'Joan Jordan', 'Erik Lamela', 'Juanlu Sánchez', 'Joseph Aidoo', ' Marcão', 'Williot Swedberg', 'Rafa Mir', 'Mihailo Ristić', 'Sergio Ramos', 'David Soria', 'Damián Suárez', 'Gastón Álvarez', 'Omar Alderete', 'Diego Rico', 'José Ángel Carmona', 'Nemanja Maksimović', 'Mason Greenwood', 'Borja Mayoral', 'Jaime Mata', 'Jeremías Ledesma', 'Iza Carcelén', 'Victor Chust', 'Javi Hernández', 'Lucas Pires', 'Robert Navarro', 'Rominigue Kouamé', 'Rubén Alcaraz', 'Darwin Machís', 'Roger Martí', 'Chris Ramos', 'Luis Milla', 'Juan Iglesias', 'Juanmi Latasa', 'Daniel Fuzato', 'Domingos Duarte', 'Fabrizio Angileri', 'Stefan Mitrović', 'Carles Aleñá', 'Óscar Rodríguez', 'Álex Fernández', 'Gonzalo Escalante', 'Sergi Guardiola', 'Álvaro Negredo', 'David Gil', 'Jorge Meré', 'Enes Ünal', 'Brian Ocampo', 'Iván Alejo', 'Fede San Emeterio', 'José Mari', 'Mauro Arambarri', 'Luis Hernández', 'Dakonam Djené', 'Maxi Gómez', 'Momo Mbaye', 'Choco Lozano', 'Álvaro Valles', 'Alex Suárez', 'Saúl Coco', 'Mika Mármol', 'Sergi Cardona', 'Marvin Park', 'Javi Muñoz', 'Máximo Perrone', 'Kirian Rodríguez', 'Alberto Moleiro', 'Munir El Haddadi', 'Jan Oblak', 'Nahuel Molina', 'Stefan Savić', 'Axel Witsel', 'Mario Hermoso', 'Rodrigo Riquelme', 'Rodrigo De Paul', ' Koke', 'Pablo Barrios', 'Antoine Griezmann', 'Álvaro Morata', 'Benito Ramírez', 'Enzo Loiodice', 'Julián Araujo', 'Sory Kaba', 'Aarón Escandell', 'Eric Curbelo', 'Juanma Herzog', 'Daley Sinkgraven', 'Omenuke Mfulu', 'Cristian Herrera', 'Marcos Llorente', 'Ángel Correa', 'Saúl Ñíguez', 'Javi Galán', 'Çağlar Söyüncü', 'Jonathan Viera', 'Memphis Depay', 'Samuel Lino', 'Thomas Lemar', 'Marc Cardona', 'César Azpilicueta', 'José Giménez', 'Sergio Herrera', 'Jesus Areso', 'Alejandro Catena', 'David García', 'Dani García', 'Johan Mojica', 'Lucas Torró', 'Moi Gómez', 'Maxi Gómez', 'Aimar Oroz', 'Rubén Peña', 'Ante Budimir', 'Paulo Gazzaniga', 'Arnau Martínez', 'Eric García', 'Daley Blind', 'Yan Couto', 'Aleix García', 'Yangel Herrera', 'Miguel Gutiérrez', 'Iván Martín', 'Artem Dovbyk', ' Sávio', ' Gavi', 'Rubén García', 'Raúl García', 'Kike Barja', 'Jon Moncayola', 'Aitor Fernández', 'Unai García', 'Jorge Herrando', 'Nacho Vidal', 'Darko Brašanac', 'Iker Muñoz', 'Viktor Tsygankov', 'Christian Stuani', 'Toni Fuidias', ' Juanpe', 'Valery Fernández', 'Bernardo Espinosa', 'Jhon Solís', 'Pablo Torre', 'David López', 'Toni Villa', 'Ibrahima Koné', 'Ibrahima Kébé', 'Juan Cruz', 'Juan Cruz', 'Borja García', 'Ezequiel Ávila', 'Pablo Ibáñez', 'Cristian Portu', 'José Arnaiz', 'Kepa Arrizabalaga', 'Dani Carvajal', 'Antonio Rüdiger', 'David Alaba', 'Fran García', 'Luka Modrić', 'Eduardo Camavinga', 'Jude Bellingham', ' Joselu', 'Vinícius Júnior', 'Stole Dimitrievski', 'Andrei Rațiu', 'Abdul Mumin', 'Florian Lejeune', 'Óscar Valentín', 'Isi Palazón', 'Unai López', 'Unai Gómez', 'Álvaro García', 'Raúl de Tomás', ' Rodrygo', 'Toni Kroos', 'Nacho Fernández', 'Andriy Lunin', 'Lucas Vázquez', 'Arda Güler', 'Nico Paz', 'Óscar Trejo', 'Kike Pérez', ' Bebé', 'Radamel Falcao', 'Jorge de Frutos', 'Dani Cárdenas', 'Martín Pascual', 'Aridane Hernández', 'Sergio Camello', 'Thibaut Courtois', 'Dani Ceballos', 'Aurélien Tchouaméni', 'Éder Militão', 'Brahim Díaz', 'Randy Nteka', 'Ferland Mendy', 'Fede Valverde', 'Pacha Espino', 'Pathé Ciss', 'Pep Chavarría', 'José Ángel Pozo', 'Alex Remiro', 'Hamari Traoré', 'Igor Zubeldia', 'Robin Le Normand', 'Aihen Muñoz', 'Brais Méndez', 'Mikel Merino', 'Martín Zubimendi', 'Takefusa Kubo', 'Mikel Oyarzabal', 'Ander Barrenetxea', 'Ronald Araújo', 'Jules Koundé', 'Íñigo Martínez', 'João Cancelo', ' Sávio', ' Gavi', 'İlkay Gündoğan', 'Alejandro Balde', 'Fermín López', 'Robert Lewandowski', 'João Félix', 'Aritz Elustondo', 'Mohamed-Ali Cho', 'Unai Marrero', 'Urko González', 'Álvaro Odriozola', 'Beñat Turrientes', 'Arsen Zakharyan', 'Pablo Marín', 'Jon Ander Olasagasti', ' Pedri', 'Ferran Torres', ' Raphinha', 'Lamine Yamal', 'Iñaki Peña', 'Andreas Christensen', 'Marcos Alonso', 'Kieran Tierney', 'André Silva', 'Frenkie De Jong', 'Umar Sadiq', 'Oriol Romeu', 'Martín Merquelanz', 'Sergi Roberto', 'Ter Stegen', 'Giorgi Mamardashvili', 'Thierry Correia', 'Cristhian Mosquera', 'Gabriel Paulista', 'José Luis Gayà', 'Fran Pérez', ' Pepelu', 'Javier Guerra', 'Selim Amallah', 'Diego López', 'Hugo Duro', 'André Ferreira', 'Ricard Sánchez', 'Ignasi Miquel', 'Raúl Torrente', 'Carlos Neva', 'Gonzalo Villar', 'Gerard Gumbau', 'Bryan Zaragoza', 'Myrto Uzuni', 'Óscar Melendo', 'Lucas Boyé', 'Sergi Canós', 'Dimitri Foulquier', 'Hugo Guillamón', 'Roman Yaremchuk', 'Jaume Doménech', 'Cristian Rivero', 'César Tárrega', 'Pablo Gozálbez', 'Antonio Puertas', 'Álvaro Fernández', 'Wilson Manafá', 'José Callejón', 'Adri López', 'Víctor Díaz', 'Njegoš Petrović', 'Famara Diédhiou', 'Shon Weissman', 'André Almeida', 'Cenk Özkacar', 'Jesús Vázquez', 'Alberto Marí', 'Jesús Vallejo', 'Hugo González', 'Alberto Perea', 'Mouctar Diakhaby', 'Raúl Fernández', 'Miki Bosch', 'Sergio Ruiz', 'Filip Jörgensen', 'Adrià Altimira', 'Raúl Albiol', 'Matteo Gabbia', 'Carlos Romero', 'Ilias Akhomach', 'Étienne Capoue', 'Dani Parejo', 'Alejandro Catena', 'Gerard Moreno', 'Alexander Sørloth', 'Unai Simón', 'Óscar De Marcos', 'Daniel Vivian', 'Aitor Paredes', 'Íñigo Lekue', 'Mikel Vesga', 'Iñigo Ruiz De Galarreta', 'Iñaki Williams', 'Oihan Sancet', 'Nico Williams', 'Gorka Guruzeta', 'Alberto Moreno', 'Aïssa Mandi', 'Kiko Femenía', 'Ramón Terrats', 'Pepe Reina', 'Jorge Cuenca', 'Santi Comesaña', 'Manu Trigueros', 'Ben Brereton Díaz', 'Álex Berenguer', 'Unai López', 'Unai Gómez', 'David García', 'Dani García', 'Santi García', 'Iker Muniain', 'Asier Villalibre', 'Julen Agirrezabala', 'Beñat Prados', 'Denis Suárez', 'Juan Foyth', 'Yéremi Pino', 'Yuri Berchiche', 'Yeray Álvarez', 'José Luis Morales', 'Francis Coquelin', 'Ander Herrera', 'Imanol García', 'Peru Nolaskoain', 'Malcom Adu Ares']\n"
     ]
    }
   ],
   "source": [
    "# Ruta al archivo Excel\n",
    "archivo_excel = \"../data/test_precedecir/dataset_training_without_Missing_Values_without_Useless_Atributes.xlsx\"\n",
    "\n",
    "# Lee el archivo Excel con pandas y especifica que no hay encabezado\n",
    "df = pd.read_excel(archivo_excel, header=None)\n",
    "\n",
    "# Obtén los valores de la primera columna (columna 0)\n",
    "valores_Historico = df.iloc[:, 0].tolist()\n",
    "\n",
    "# Imprime o utiliza los valores según sea necesario\n",
    "print(valores_Historico)"
   ]
  },
  {
   "cell_type": "markdown",
   "id": "7a155850-dfc8-4404-88ec-26ae7399d0d0",
   "metadata": {},
   "source": [
    "#### Buscar coincidencias de jugaodres"
   ]
  },
  {
   "cell_type": "code",
   "execution_count": null,
   "id": "db519e78-c578-4ef5-b8d4-23e7d7d81b0d",
   "metadata": {},
   "outputs": [],
   "source": [
    "# Umbral de distancia para considerar coincidencias\n",
    "umbral_distancia = 5  # Puedes ajustar este umbral según tus necesidades\n",
    "\n",
    "# Itera sobre ambos arrays al mismo tiempo\n",
    "for nombre1, nombre2 in zip(valores_Mercado, valores_Historico):\n",
    "    # Calcula la distancia de Levenshtein entre los nombres\n",
    "    distancia = Levenshtein.distance(nombre1.lower(), nombre2.lower())\n",
    "\n",
    "    # Compara si la distancia es menor o igual al umbral\n",
    "    if distancia <= umbral_distancia:\n",
    "        print(f\"Coincidencia encontrada: {nombre1} == {nombre2}\")\n",
    "    else:\n",
    "        print(f\"Diferencia encontrada: {nombre1} != {nombre2}\")"
   ]
  }
 ],
 "metadata": {
  "kernelspec": {
   "display_name": "Python 3 (ipykernel)",
   "language": "python",
   "name": "python3"
  },
  "language_info": {
   "codemirror_mode": {
    "name": "ipython",
    "version": 3
   },
   "file_extension": ".py",
   "mimetype": "text/x-python",
   "name": "python",
   "nbconvert_exporter": "python",
   "pygments_lexer": "ipython3",
   "version": "3.11.5"
  }
 },
 "nbformat": 4,
 "nbformat_minor": 5
}
