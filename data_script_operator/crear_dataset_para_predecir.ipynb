{
 "cells": [
  {
   "cell_type": "markdown",
   "id": "c8336875-2e5e-41ca-9613-5dfb6840b234",
   "metadata": {},
   "source": [
    "# Crear dataset de entrada para predecir"
   ]
  },
  {
   "cell_type": "code",
   "execution_count": 63,
   "id": "ded0119a-abe9-4150-9631-75096b362de7",
   "metadata": {
    "tags": []
   },
   "outputs": [],
   "source": [
    "import pandas as pd\n",
    "import os\n",
    "from unidecode import unidecode\n",
    "import Levenshtein \n",
    "from difflib import get_close_matches"
   ]
  },
  {
   "cell_type": "markdown",
   "id": "aec94f3d-c182-4be7-97dd-87a9b61e9de4",
   "metadata": {},
   "source": [
    "#### Leer esxcell mercado/plantilla"
   ]
  },
  {
   "cell_type": "code",
   "execution_count": 64,
   "id": "5fa08e46-6c17-4f49-95a4-e3c70238155e",
   "metadata": {
    "tags": []
   },
   "outputs": [
    {
     "name": "stdout",
     "output_type": "stream",
     "text": [
      "['G. Mamardashvili', 'A. Pedraza', 'A. Rüdiger', 'E. García', 'Y. Couto', 'A. Baena', 'A. Tchouaméni', 'F. De Jong', 'M. Llorente', 'N. Maksimović', 'P. Torre', 'V. Tsygankov', 'Á. Morata', 'A. Douvikas', 'C. Ramos']\n",
      "15\n"
     ]
    }
   ],
   "source": [
    "import pandas as pd\n",
    "\n",
    "# Ruta al archivo Excel\n",
    "archivo_excel = \"../mi_plantilla2023-12-27--18-45-S.xlsx\"\n",
    "\n",
    "# Lee el archivo Excel con pandas y especifica que no hay encabezado\n",
    "df = pd.read_excel(archivo_excel, header=None)\n",
    "\n",
    "# Obtén los valores de la primera columna (columna 0)\n",
    "valores_Mercado = df.iloc[:, 0].tolist()\n",
    "\n",
    "# Imprime o utiliza los valores según sea necesario\n",
    "print(valores_Mercado)\n",
    "print(len(valores_Mercado))\n"
   ]
  },
  {
   "cell_type": "markdown",
   "id": "4d020a9e-6bc9-4005-a243-d95f798aa7ac",
   "metadata": {
    "tags": []
   },
   "source": [
    "#### Función para encontrar los jugaodres de mi plantilla/mercado en el dataset de estadisticas"
   ]
  },
  {
   "cell_type": "code",
   "execution_count": 65,
   "id": "957122b8-3d37-409b-b948-87c2adec0e49",
   "metadata": {
    "tags": []
   },
   "outputs": [],
   "source": [
    "def encontrar_coincidencias(valores_Historico, valores_Mercado):\n",
    "    print(\"Buscando coincidencias...\\n\")\n",
    "    posiciones = []\n",
    "\n",
    "    for pos, nombre_completo in enumerate(valores_Historico):\n",
    "        coincidencias_iniciales = [nombre_abreviado for nombre_abreviado in valores_Mercado if nombre_abreviado.startswith(nombre_completo[0])]\n",
    "\n",
    "        coincidencias_texto = get_close_matches(nombre_completo, coincidencias_iniciales)\n",
    "\n",
    "        if coincidencias_texto:\n",
    "            posiciones.append(pos)\n",
    "            print(f\"Coincidencia en {pos} para '{nombre_completo}': {coincidencias_texto[0]}\")\n",
    "    print(\"\\n\" + \".\" * 150+ \"\\n\")\n",
    "    return posiciones"
   ]
  },
  {
   "cell_type": "markdown",
   "id": "7a155850-dfc8-4404-88ec-26ae7399d0d0",
   "metadata": {
    "tags": []
   },
   "source": [
    "#### Buscar jugaodres en los datasets de estadisticas que me interesan (jugaodres de mi plantilla / jugaodres en el mercado actual)"
   ]
  },
  {
   "cell_type": "code",
   "execution_count": 73,
   "id": "f526e11b-46f5-4e2d-bd54-5a763238294c",
   "metadata": {
    "tags": []
   },
   "outputs": [
    {
     "name": "stdout",
     "output_type": "stream",
     "text": [
      "\n",
      "======================================================================================================================================================\n",
      "\n",
      "Buscando coincidencias...\n",
      "\n",
      "Coincidencia en 120 para 'Anastasios Douvikas': A. Douvikas\n",
      "Coincidencia en 125 para 'Adrià Pedrosa': A. Pedraza\n",
      "Coincidencia en 148 para 'Nemanja Maksimović': N. Maksimović\n",
      "Coincidencia en 162 para 'Chris Ramos': C. Ramos\n",
      "Coincidencia en 210 para 'Álvaro Morata': Á. Morata\n",
      "Coincidencia en 221 para 'Marcos Llorente': M. Llorente\n",
      "Coincidencia en 247 para 'Eric García': E. García\n",
      "Coincidencia en 249 para 'Yan Couto': Y. Couto\n",
      "Coincidencia en 267 para 'Viktor Tsygankov': V. Tsygankov\n",
      "Coincidencia en 274 para 'Pablo Torre': P. Torre\n",
      "Coincidencia en 288 para 'Antonio Rüdiger': A. Rüdiger\n",
      "Coincidencia en 324 para 'Aurélien Tchouaméni': A. Tchouaméni\n",
      "Coincidencia en 374 para 'Frenkie De Jong': F. De Jong\n",
      "Coincidencia en 380 para 'Giorgi Mamardashvili': G. Mamardashvili\n",
      "\n",
      "......................................................................................................................................................\n",
      "\n",
      "Coincidencia en ../data/test_precedecir\\dataset_training_without_Missing_Values_without_Useless_Atributes.xlsx, fila 120: {0: 'Anastasios Douvikas', 1: '966.000', 2: 'DL', 3: 'Celta de Vigo', 4: 2, 5: 2, 6: 2, 7: 2, 8: 'Celta', 9: 'Draw', 10: 'Valencia', 11: False, 12: '2,0', 13: '4,8', 14: 24, 15: '1,84m', 16: '78kg', 17: 6.4, 18: \"9'\", 19: 0, 20: 0, 21: 0, 22: 0, 23: 0, 24: 0, 25: 5, 26: '3/5 (60%)', 27: 0, 28: '0 (0)', 29: '0 (0)', 30: 0, 31: 0, 32: 0, 33: 0, 34: 0, 35: '2 (0)', 36: '1 (0)', 37: 2, 38: 0, 39: 0, 40: 0, 41: 0, 42: '0 (0)', 43: 0, 44: 0, 45: 2, 46: 0, 47: 0, 48: 0, 49: 0, 50: 0, 51: 0, 52: 0, 53: 0, 54: 0, 55: nan, 56: 0, 57: 0}\n",
      "\n",
      "Coincidencia en ../data/test_precedecir\\dataset_training_without_Missing_Values_without_Useless_Atributes.xlsx, fila 125: {0: 'Adrià Pedrosa', 1: '2.880.000', 2: 'DF', 3: 'Sevilla', 4: 4, 5: 2, 6: 2, 7: 6, 8: 'Celta', 9: 'Draw', 10: 'Real Sociedad', 11: False, 12: '4,2', 13: '2,6', 14: 25, 15: '1,76m', 16: '69kg', 17: 7.1, 18: \"45'\", 19: 0.08, 20: 0, 21: 0, 22: 0, 23: 0, 24: 0, 25: 49, 26: '20/22 (91%)', 27: 2, 28: '6 (2)', 29: '2 (0)', 30: 1, 31: 0, 32: 2, 33: 2, 34: 0, 35: '7 (5)', 36: '2 (0)', 37: 0, 38: 2, 39: 0, 40: 0, 41: 0, 42: '2 (1)', 43: 0, 44: 0, 45: 12, 46: 0, 47: 0, 48: 0, 49: 0, 50: 0, 51: 0, 52: 0, 53: 0, 54: 0, 55: nan, 56: 0, 57: 0}\n",
      "\n",
      "Coincidencia en ../data/test_precedecir\\dataset_training_without_Missing_Values_without_Useless_Atributes.xlsx, fila 148: {0: 'Nemanja Maksimović', 1: '6.962.000', 2: 'MC', 3: 'Getafe', 4: 4, 5: 2, 6: 2, 7: 6, 8: 'Cádiz', 9: 'Win', 10: 'Almería', 11: True, 12: '5,8', 13: '3,4', 14: 28, 15: '1,84m', 16: '75kg', 17: 7, 18: \"90'\", 19: 0.03, 20: 0, 21: 0, 22: 0, 23: 0, 24: 0, 25: 48, 26: '27/36 (75%)', 27: 1, 28: '1 (1)', 29: '2 (1)', 30: 3, 31: 0, 32: 1, 33: 1, 34: 0, 35: '1 (1)', 36: '4 (4)', 37: 0, 38: 0, 39: 1, 40: 0, 41: 1, 42: '0 (0)', 43: 0, 44: 0, 45: 10, 46: 0.3, 47: 0, 48: 0, 49: 0, 50: 1, 51: 0, 52: 0, 53: 0, 54: 0, 55: nan, 56: 0, 57: 0}\n",
      "\n",
      "Coincidencia en ../data/test_precedecir\\dataset_training_without_Missing_Values_without_Useless_Atributes.xlsx, fila 162: {0: 'Chris Ramos', 1: '8.749.000', 2: 'DL', 3: 'Cádiz', 4: 4, 5: 2, 6: 6, 7: 6, 8: 'Getafe', 9: 'Loss', 10: 'Real Madrid', 11: True, 12: '6,5', 13: '5,0', 14: 26, 15: '1,93m', 16: 0, 17: 6.5, 18: \"75'\", 19: 0.01, 20: 0, 21: 0, 22: 0, 23: 0, 24: 0, 25: 27, 26: '5/11 (45%)', 27: 0, 28: '1 (0)', 29: '2 (1)', 30: 1, 31: 0, 32: 1, 33: 1, 34: 0, 35: '5 (2)', 36: '8 (3)', 37: 2, 38: 1, 39: 1, 40: 1, 41: 0, 42: '0 (0)', 43: 0, 44: 0, 45: 15, 46: 0.13, 47: 0, 48: 0, 49: 0, 50: 1, 51: 0, 52: 0, 53: 2, 54: 0, 55: nan, 56: 0, 57: 0}\n",
      "\n",
      "Coincidencia en ../data/test_precedecir\\dataset_training_without_Missing_Values_without_Useless_Atributes.xlsx, fila 210: {0: 'Álvaro Morata', 1: '15.728.000', 2: 'DL', 3: 'Atlético de Madrid', 4: 9, 5: 9, 6: 5, 7: 13, 8: 'Las Palmas', 9: 'Loss', 10: 'Mallorca', 11: True, 12: '8,6', 13: '5,5', 14: 31, 15: '1,89m', 16: '85kg', 17: 7.2, 18: \"90'\", 19: 0, 20: 0, 21: 0, 22: 0, 23: 0, 24: 0, 25: 21, 26: '10/12 (83%)', 27: 0, 28: '0 (0)', 29: '3 (3)', 30: 1, 31: 0, 32: 0, 33: 0, 34: 0, 35: '5 (2)', 36: '2 (0)', 37: 1, 38: 0, 39: 1, 40: 1, 41: 1, 42: '2 (2)', 43: 1, 44: 0, 45: 4, 46: 0.5, 47: 0, 48: 0, 49: 0, 50: 1, 51: 0, 52: 0, 53: 1, 54: 1, 55: nan, 56: 0, 57: 0}\n",
      "\n",
      "Coincidencia en ../data/test_precedecir\\dataset_training_without_Missing_Values_without_Useless_Atributes.xlsx, fila 221: {0: 'Marcos Llorente', 1: '7.056.000', 2: 'MC', 3: 'Atlético de Madrid', 4: 1, 5: -2, 6: -2, 7: 6, 8: 'Las Palmas', 9: 'Loss', 10: 'Mallorca', 11: True, 12: '4,7', 13: '3,3', 14: 28, 15: '1,84m', 16: '71kg', 17: 6.7, 18: \"30'\", 19: 0, 20: 0, 21: 0, 22: 0, 23: 0, 24: 0, 25: 14, 26: '6/10 (60%)', 27: 0, 28: '2 (0)', 29: '1 (1)', 30: 0, 31: 0, 32: 0, 33: 1, 34: 1, 35: '2 (1)', 36: '1 (1)', 37: 0, 38: 0, 39: 0, 40: 0, 41: 0, 42: '0 (0)', 43: 0, 44: 0, 45: 6, 46: 0, 47: 0, 48: 0, 49: 0, 50: 0, 51: 0, 52: 0, 53: 0, 54: 0, 55: nan, 56: 0, 57: 0}\n",
      "\n",
      "Coincidencia en ../data/test_precedecir\\dataset_training_without_Missing_Values_without_Useless_Atributes.xlsx, fila 247: {0: 'Eric García', 1: '5.345.000', 2: 'DF', 3: 'Girona', 4: 2, 5: 2, 6: 2, 7: 2, 8: 'Osasuna', 9: 'Win', 10: 'Athletic Club', 11: True, 12: '4,0', 13: '4,8', 14: 22, 15: '1,82m', 16: '79kg', 17: 6.7, 18: \"90'\", 19: 0, 20: 0, 21: 0, 22: 0, 23: 0, 24: 0, 25: 53, 26: '39/43 (91%)', 27: 0, 28: '0 (0)', 29: '3 (1)', 30: 2, 31: 2, 32: 1, 33: 0, 34: 0, 35: '2 (1)', 36: '0 (0)', 37: 0, 38: 1, 39: 0, 40: 0, 41: 0, 42: '0 (0)', 43: 0, 44: 0, 45: 7, 46: 0, 47: 0, 48: 0, 49: 0, 50: 0, 51: 0, 52: 0, 53: 0, 54: 0, 55: nan, 56: 0, 57: 0}\n",
      "\n",
      "Coincidencia en ../data/test_precedecir\\dataset_training_without_Missing_Values_without_Useless_Atributes.xlsx, fila 249: {0: 'Yan Couto', 1: '8.409.000', 2: 'DF', 3: 'Girona', 4: 2, 5: 2, 6: 2, 7: 2, 8: 'Osasuna', 9: 'Win', 10: 'Athletic Club', 11: True, 12: '4,6', 13: '4,6', 14: 21, 15: '1,69m', 16: 0, 17: 6.4, 18: \"70'\", 19: 0.04, 20: 0, 21: 0, 22: 0, 23: 0, 24: 0, 25: 28, 26: '13/15 (87%)', 27: 0, 28: '3 (0)', 29: '0 (0)', 30: 0, 31: 0, 32: 0, 33: 0, 34: 0, 35: '4 (0)', 36: '1 (0)', 37: 2, 38: 0, 39: 0, 40: 2, 41: 0, 42: '0 (0)', 43: 0, 44: 0, 45: 9, 46: 0.03, 47: 0, 48: 0, 49: 0, 50: 0, 51: 0, 52: 0, 53: 0, 54: 0, 55: nan, 56: 0, 57: 0}\n",
      "\n",
      "Coincidencia en ../data/test_precedecir\\dataset_training_without_Missing_Values_without_Useless_Atributes.xlsx, fila 267: {0: 'Viktor Tsygankov', 1: '10.124.000', 2: 'MC', 3: 'Girona', 4: 10, 5: 10, 6: 10, 7: 10, 8: 'Osasuna', 9: 'Win', 10: 'Athletic Club', 11: True, 12: '3,2', 13: '6,8', 14: 26, 15: '1,78m', 16: '70kg', 17: 7.3, 18: \"20'\", 19: 0.09, 20: 0, 21: 0, 22: 0, 23: 0, 24: 0, 25: 18, 26: '10/13 (77%)', 27: 0, 28: '1 (1)', 29: '1 (1)', 30: 0, 31: 0, 32: 1, 33: 0, 34: 0, 35: '1 (0)', 36: '0 (0)', 37: 0, 38: 0, 39: 1, 40: 0, 41: 0, 42: '1 (0)', 43: 1, 44: 0, 45: 5, 46: 0.52, 47: 0, 48: 0, 49: 0, 50: 0, 51: 0, 52: 0, 53: 0, 54: 0, 55: nan, 56: 0, 57: 0}\n",
      "\n",
      "Coincidencia en ../data/test_precedecir\\dataset_training_without_Missing_Values_without_Useless_Atributes.xlsx, fila 274: {0: 'Pablo Torre', 1: '160.000', 2: 'MC', 3: 'Girona', 4: 0, 5: 0, 6: 0, 7: 0, 8: 0, 9: 0, 10: 'Athletic Club', 11: True, 12: '1,6', 13: '3,5', 14: 20, 15: '1,70m', 16: 0, 17: 0, 18: 0, 19: 0, 20: 0, 21: 0, 22: 0, 23: 0, 24: 0, 25: 0, 26: 0, 27: 0, 28: 0, 29: 0, 30: 0, 31: 0, 32: 0, 33: 0, 34: 0, 35: 0, 36: 0, 37: 0, 38: 0, 39: 0, 40: 0, 41: 0, 42: 0, 43: 0, 44: 0, 45: 0, 46: 0, 47: 0, 48: 0, 49: 0, 50: 0, 51: 0, 52: 0, 53: 0, 54: 0, 55: nan, 56: 0, 57: 0}\n",
      "\n",
      "Coincidencia en ../data/test_precedecir\\dataset_training_without_Missing_Values_without_Useless_Atributes.xlsx, fila 288: {0: 'Antonio Rüdiger', 1: '10.937.000', 2: 'DF', 3: 'Real Madrid', 4: 3, 5: 2, 6: 2, 7: 2, 8: 'Rayo Vallecano', 9: 'Draw', 10: 'Cádiz', 11: False, 12: '3,6', 13: '3,9', 14: 30, 15: '1,91m', 16: '85kg', 17: 7.1, 18: \"90'\", 19: 0.01, 20: 0, 21: 0, 22: 0, 23: 0, 24: 0, 25: 46, 26: '29/37 (78%)', 27: 1, 28: '1 (0)', 29: '3 (1)', 30: 4, 31: 0, 32: 0, 33: 3, 34: 0, 35: '5 (3)', 36: '4 (4)', 37: 2, 38: 0, 39: 0, 40: 0, 41: 1, 42: '0 (0)', 43: 0, 44: 0, 45: 9, 46: 0.01, 47: 0, 48: 0, 49: 0, 50: 0, 51: 0, 52: 0, 53: 0, 54: 0, 55: nan, 56: 0, 57: 0}\n",
      "\n",
      "Coincidencia en ../data/test_precedecir\\dataset_training_without_Missing_Values_without_Useless_Atributes.xlsx, fila 324: {0: 'Aurélien Tchouaméni', 1: '10.153.000', 2: 'MC', 3: 'Real Madrid', 4: 0, 5: 0, 6: 0, 7: 0, 8: 0, 9: 0, 10: 'Cádiz', 11: False, 12: '3,3', 13: '5,0', 14: 23, 15: '1,88m', 16: 0, 17: 0, 18: 0, 19: 0, 20: 0, 21: 0, 22: 0, 23: 0, 24: 0, 25: 0, 26: 0, 27: 0, 28: 0, 29: 0, 30: 0, 31: 0, 32: 0, 33: 0, 34: 0, 35: 0, 36: 0, 37: 0, 38: 0, 39: 0, 40: 0, 41: 0, 42: 0, 43: 0, 44: 0, 45: 0, 46: 0, 47: 0, 48: 0, 49: 0, 50: 0, 51: 0, 52: 0, 53: 0, 54: 0, 55: 'Injury', 56: 0, 57: 0}\n",
      "\n",
      "Coincidencia en ../data/test_precedecir\\dataset_training_without_Missing_Values_without_Useless_Atributes.xlsx, fila 374: {0: 'Frenkie De Jong', 1: '15.189.000', 2: 'MC', 3: 'Barcelona', 4: 0, 5: 0, 6: 0, 7: 0, 8: 0, 9: 0, 10: 'Rayo Vallecano', 11: False, 12: '5,7', 13: '9,3', 14: 26, 15: '1,80m', 16: '70kg', 17: 0, 18: 0, 19: 0, 20: 0, 21: 0, 22: 0, 23: 0, 24: 0, 25: 0, 26: 0, 27: 0, 28: 0, 29: 0, 30: 0, 31: 0, 32: 0, 33: 0, 34: 0, 35: 0, 36: 0, 37: 0, 38: 0, 39: 0, 40: 0, 41: 0, 42: 0, 43: 0, 44: 0, 45: 0, 46: 0, 47: 0, 48: 0, 49: 0, 50: 0, 51: 0, 52: 0, 53: 0, 54: 0, 55: 'Injury', 56: 0, 57: 0}\n",
      "\n",
      "Coincidencia en ../data/test_precedecir\\dataset_training_without_Missing_Values_without_Useless_Atributes.xlsx, fila 380: {0: 'Giorgi Mamardashvili', 1: '9.522.000', 2: 'PT', 3: 'Valencia', 4: 3, 5: 2, 6: 2, 7: 2, 8: 'Granada', 9: 'Win', 10: 'Celta de Vigo', 11: True, 12: '4,2', 13: '5,3', 14: 23, 15: '2,00m', 16: 0, 17: 6.8, 18: \"90'\", 19: 0, 20: 1, 21: 0.02, 22: 0, 23: '0 (0)', 24: 0, 25: 29, 26: '13/22 (59%)', 27: 0, 28: '0 (0)', 29: '14 (5)', 30: 0, 31: 0, 32: 0, 33: 0, 34: 0, 35: '0 (0)', 36: '0 (0)', 37: 0, 38: 0, 39: 0, 40: 0, 41: 0, 42: '0 (0)', 43: 0, 44: 0, 45: 0, 46: 0, 47: 0, 48: 0, 49: 0, 50: 0, 51: 0, 52: 0, 53: 0, 54: 0, 55: nan, 56: 0, 57: 0}\n",
      "\n",
      "\n",
      "======================================================================================================================================================\n",
      "\n",
      "Buscando coincidencias...\n",
      "\n",
      "Coincidencia en 119 para 'Anastasios Douvikas': A. Douvikas\n",
      "Coincidencia en 124 para 'Adrià Pedrosa': A. Pedraza\n",
      "Coincidencia en 147 para 'Nemanja Maksimović': N. Maksimović\n",
      "Coincidencia en 161 para 'Chris Ramos': C. Ramos\n",
      "Coincidencia en 209 para 'Álvaro Morata': Á. Morata\n",
      "Coincidencia en 220 para 'Marcos Llorente': M. Llorente\n",
      "Coincidencia en 246 para 'Eric García': E. García\n",
      "Coincidencia en 248 para 'Yan Couto': Y. Couto\n",
      "Coincidencia en 266 para 'Viktor Tsygankov': V. Tsygankov\n",
      "Coincidencia en 273 para 'Pablo Torre': P. Torre\n",
      "Coincidencia en 287 para 'Antonio Rüdiger': A. Rüdiger\n",
      "Coincidencia en 323 para 'Aurélien Tchouaméni': A. Tchouaméni\n",
      "Coincidencia en 373 para 'Frenkie De Jong': F. De Jong\n",
      "Coincidencia en 379 para 'Giorgi Mamardashvili': G. Mamardashvili\n",
      "\n",
      "......................................................................................................................................................\n",
      "\n",
      "Coincidencia en ../data/test_precedecir\\dataset_training_without_Missing_Values_without_Useless_Atributes2prueba.xlsx, fila 119: {0: 'Anastasios Douvikas', 1: '966.000', 2: 'DL', 3: 'Celta de Vigo', 4: 2, 5: 2, 6: 2, 7: 2, 8: 'Celta', 9: 'Draw', 10: 'Valencia', 11: False, 12: '2,0', 13: '4,8', 14: 24, 15: '1,84m', 16: '78kg', 17: 6.4, 18: \"9'\", 19: 0, 20: 0, 21: 0, 22: 0, 23: 0, 24: 0, 25: 5, 26: '3/5 (60%)', 27: 0, 28: '0 (0)', 29: '0 (0)', 30: 0, 31: 0, 32: 0, 33: 0, 34: 0, 35: '2 (0)', 36: '1 (0)', 37: 2, 38: 0, 39: 0, 40: 0, 41: 0, 42: '0 (0)', 43: 0, 44: 0, 45: 2, 46: 0, 47: 0, 48: 0, 49: 0, 50: 0, 51: 0, 52: 0, 53: 0, 54: 0, 55: nan, 56: 0, 57: 0}\n",
      "\n",
      "Coincidencia en ../data/test_precedecir\\dataset_training_without_Missing_Values_without_Useless_Atributes2prueba.xlsx, fila 124: {0: 'Adrià Pedrosa', 1: '2.880.000', 2: 'DF', 3: 'Sevilla', 4: 4, 5: 2, 6: 2, 7: 6, 8: 'Celta', 9: 'Draw', 10: 'Real Sociedad', 11: False, 12: '4,2', 13: '2,6', 14: 25, 15: '1,76m', 16: '69kg', 17: 7.1, 18: \"45'\", 19: 0.08, 20: 0, 21: 0, 22: 0, 23: 0, 24: 0, 25: 49, 26: '20/22 (91%)', 27: 2, 28: '6 (2)', 29: '2 (0)', 30: 1, 31: 0, 32: 2, 33: 2, 34: 0, 35: '7 (5)', 36: '2 (0)', 37: 0, 38: 2, 39: 0, 40: 0, 41: 0, 42: '2 (1)', 43: 0, 44: 0, 45: 12, 46: 0, 47: 0, 48: 0, 49: 0, 50: 0, 51: 0, 52: 0, 53: 0, 54: 0, 55: nan, 56: 0, 57: 0}\n",
      "\n",
      "Coincidencia en ../data/test_precedecir\\dataset_training_without_Missing_Values_without_Useless_Atributes2prueba.xlsx, fila 147: {0: 'Nemanja Maksimović', 1: '6.962.000', 2: 'MC', 3: 'Getafe', 4: 4, 5: 2, 6: 2, 7: 6, 8: 'Cádiz', 9: 'Win', 10: 'Almería', 11: True, 12: '5,8', 13: '3,4', 14: 28, 15: '1,84m', 16: '75kg', 17: 7, 18: \"90'\", 19: 0.03, 20: 0, 21: 0, 22: 0, 23: 0, 24: 0, 25: 48, 26: '27/36 (75%)', 27: 1, 28: '1 (1)', 29: '2 (1)', 30: 3, 31: 0, 32: 1, 33: 1, 34: 0, 35: '1 (1)', 36: '4 (4)', 37: 0, 38: 0, 39: 1, 40: 0, 41: 1, 42: '0 (0)', 43: 0, 44: 0, 45: 10, 46: 0.3, 47: 0, 48: 0, 49: 0, 50: 1, 51: 0, 52: 0, 53: 0, 54: 0, 55: nan, 56: 0, 57: 0}\n",
      "\n",
      "Coincidencia en ../data/test_precedecir\\dataset_training_without_Missing_Values_without_Useless_Atributes2prueba.xlsx, fila 161: {0: 'Chris Ramos', 1: '8.749.000', 2: 'DL', 3: 'Cádiz', 4: 4, 5: 2, 6: 6, 7: 6, 8: 'Getafe', 9: 'Loss', 10: 'Real Madrid', 11: True, 12: '6,5', 13: '5,0', 14: 26, 15: '1,93m', 16: 0, 17: 6.5, 18: \"75'\", 19: 0.01, 20: 0, 21: 0, 22: 0, 23: 0, 24: 0, 25: 27, 26: '5/11 (45%)', 27: 0, 28: '1 (0)', 29: '2 (1)', 30: 1, 31: 0, 32: 1, 33: 1, 34: 0, 35: '5 (2)', 36: '8 (3)', 37: 2, 38: 1, 39: 1, 40: 1, 41: 0, 42: '0 (0)', 43: 0, 44: 0, 45: 15, 46: 0.13, 47: 0, 48: 0, 49: 0, 50: 1, 51: 0, 52: 0, 53: 2, 54: 0, 55: nan, 56: 0, 57: 0}\n",
      "\n",
      "Coincidencia en ../data/test_precedecir\\dataset_training_without_Missing_Values_without_Useless_Atributes2prueba.xlsx, fila 209: {0: 'Álvaro Morata', 1: '15.728.000', 2: 'DL', 3: 'Atlético de Madrid', 4: 9, 5: 9, 6: 5, 7: 13, 8: 'Las Palmas', 9: 'Loss', 10: 'Mallorca', 11: True, 12: '8,6', 13: '5,5', 14: 31, 15: '1,89m', 16: '85kg', 17: 7.2, 18: \"90'\", 19: 0, 20: 0, 21: 0, 22: 0, 23: 0, 24: 0, 25: 21, 26: '10/12 (83%)', 27: 0, 28: '0 (0)', 29: '3 (3)', 30: 1, 31: 0, 32: 0, 33: 0, 34: 0, 35: '5 (2)', 36: '2 (0)', 37: 1, 38: 0, 39: 1, 40: 1, 41: 1, 42: '2 (2)', 43: 1, 44: 0, 45: 4, 46: 0.5, 47: 0, 48: 0, 49: 0, 50: 1, 51: 0, 52: 0, 53: 1, 54: 1, 55: nan, 56: 0, 57: 0}\n",
      "\n",
      "Coincidencia en ../data/test_precedecir\\dataset_training_without_Missing_Values_without_Useless_Atributes2prueba.xlsx, fila 220: {0: 'Marcos Llorente', 1: '7.056.000', 2: 'MC', 3: 'Atlético de Madrid', 4: 1, 5: -2, 6: -2, 7: 6, 8: 'Las Palmas', 9: 'Loss', 10: 'Mallorca', 11: True, 12: '4,7', 13: '3,3', 14: 28, 15: '1,84m', 16: '71kg', 17: 6.7, 18: \"30'\", 19: 0, 20: 0, 21: 0, 22: 0, 23: 0, 24: 0, 25: 14, 26: '6/10 (60%)', 27: 0, 28: '2 (0)', 29: '1 (1)', 30: 0, 31: 0, 32: 0, 33: 1, 34: 1, 35: '2 (1)', 36: '1 (1)', 37: 0, 38: 0, 39: 0, 40: 0, 41: 0, 42: '0 (0)', 43: 0, 44: 0, 45: 6, 46: 0, 47: 0, 48: 0, 49: 0, 50: 0, 51: 0, 52: 0, 53: 0, 54: 0, 55: nan, 56: 0, 57: 0}\n",
      "\n",
      "Coincidencia en ../data/test_precedecir\\dataset_training_without_Missing_Values_without_Useless_Atributes2prueba.xlsx, fila 246: {0: 'Eric García', 1: '5.345.000', 2: 'DF', 3: 'Girona', 4: 2, 5: 2, 6: 2, 7: 2, 8: 'Osasuna', 9: 'Win', 10: 'Athletic Club', 11: True, 12: '4,0', 13: '4,8', 14: 22, 15: '1,82m', 16: '79kg', 17: 6.7, 18: \"90'\", 19: 0, 20: 0, 21: 0, 22: 0, 23: 0, 24: 0, 25: 53, 26: '39/43 (91%)', 27: 0, 28: '0 (0)', 29: '3 (1)', 30: 2, 31: 2, 32: 1, 33: 0, 34: 0, 35: '2 (1)', 36: '0 (0)', 37: 0, 38: 1, 39: 0, 40: 0, 41: 0, 42: '0 (0)', 43: 0, 44: 0, 45: 7, 46: 0, 47: 0, 48: 0, 49: 0, 50: 0, 51: 0, 52: 0, 53: 0, 54: 0, 55: nan, 56: 0, 57: 0}\n",
      "\n",
      "Coincidencia en ../data/test_precedecir\\dataset_training_without_Missing_Values_without_Useless_Atributes2prueba.xlsx, fila 248: {0: 'Yan Couto', 1: '8.409.000', 2: 'DF', 3: 'Girona', 4: 2, 5: 2, 6: 2, 7: 2, 8: 'Osasuna', 9: 'Win', 10: 'Athletic Club', 11: True, 12: '4,6', 13: '4,6', 14: 21, 15: '1,69m', 16: 0, 17: 6.4, 18: \"70'\", 19: 0.04, 20: 0, 21: 0, 22: 0, 23: 0, 24: 0, 25: 28, 26: '13/15 (87%)', 27: 0, 28: '3 (0)', 29: '0 (0)', 30: 0, 31: 0, 32: 0, 33: 0, 34: 0, 35: '4 (0)', 36: '1 (0)', 37: 2, 38: 0, 39: 0, 40: 2, 41: 0, 42: '0 (0)', 43: 0, 44: 0, 45: 9, 46: 0.03, 47: 0, 48: 0, 49: 0, 50: 0, 51: 0, 52: 0, 53: 0, 54: 0, 55: nan, 56: 0, 57: 0}\n",
      "\n",
      "Coincidencia en ../data/test_precedecir\\dataset_training_without_Missing_Values_without_Useless_Atributes2prueba.xlsx, fila 266: {0: 'Viktor Tsygankov', 1: '10.124.000', 2: 'MC', 3: 'Girona', 4: 10, 5: 10, 6: 10, 7: 10, 8: 'Osasuna', 9: 'Win', 10: 'Athletic Club', 11: True, 12: '3,2', 13: '6,8', 14: 26, 15: '1,78m', 16: '70kg', 17: 7.3, 18: \"20'\", 19: 0.09, 20: 0, 21: 0, 22: 0, 23: 0, 24: 0, 25: 18, 26: '10/13 (77%)', 27: 0, 28: '1 (1)', 29: '1 (1)', 30: 0, 31: 0, 32: 1, 33: 0, 34: 0, 35: '1 (0)', 36: '0 (0)', 37: 0, 38: 0, 39: 1, 40: 0, 41: 0, 42: '1 (0)', 43: 1, 44: 0, 45: 5, 46: 0.52, 47: 0, 48: 0, 49: 0, 50: 0, 51: 0, 52: 0, 53: 0, 54: 0, 55: nan, 56: 0, 57: 0}\n",
      "\n",
      "Coincidencia en ../data/test_precedecir\\dataset_training_without_Missing_Values_without_Useless_Atributes2prueba.xlsx, fila 273: {0: 'Pablo Torre', 1: '160.000', 2: 'MC', 3: 'Girona', 4: 0, 5: 0, 6: 0, 7: 0, 8: 0, 9: 0, 10: 'Athletic Club', 11: True, 12: '1,6', 13: '3,5', 14: 20, 15: '1,70m', 16: 0, 17: 0, 18: 0, 19: 0, 20: 0, 21: 0, 22: 0, 23: 0, 24: 0, 25: 0, 26: 0, 27: 0, 28: 0, 29: 0, 30: 0, 31: 0, 32: 0, 33: 0, 34: 0, 35: 0, 36: 0, 37: 0, 38: 0, 39: 0, 40: 0, 41: 0, 42: 0, 43: 0, 44: 0, 45: 0, 46: 0, 47: 0, 48: 0, 49: 0, 50: 0, 51: 0, 52: 0, 53: 0, 54: 0, 55: nan, 56: 0, 57: 0}\n",
      "\n",
      "Coincidencia en ../data/test_precedecir\\dataset_training_without_Missing_Values_without_Useless_Atributes2prueba.xlsx, fila 287: {0: 'Antonio Rüdiger', 1: '10.937.000', 2: 'DF', 3: 'Real Madrid', 4: 3, 5: 2, 6: 2, 7: 2, 8: 'Rayo Vallecano', 9: 'Draw', 10: 'Cádiz', 11: False, 12: '3,6', 13: '3,9', 14: 30, 15: '1,91m', 16: '85kg', 17: 7.1, 18: \"90'\", 19: 0.01, 20: 0, 21: 0, 22: 0, 23: 0, 24: 0, 25: 46, 26: '29/37 (78%)', 27: 1, 28: '1 (0)', 29: '3 (1)', 30: 4, 31: 0, 32: 0, 33: 3, 34: 0, 35: '5 (3)', 36: '4 (4)', 37: 2, 38: 0, 39: 0, 40: 0, 41: 1, 42: '0 (0)', 43: 0, 44: 0, 45: 9, 46: 0.01, 47: 0, 48: 0, 49: 0, 50: 0, 51: 0, 52: 0, 53: 0, 54: 0, 55: nan, 56: 0, 57: 0}\n",
      "\n",
      "Coincidencia en ../data/test_precedecir\\dataset_training_without_Missing_Values_without_Useless_Atributes2prueba.xlsx, fila 323: {0: 'Aurélien Tchouaméni', 1: '10.153.000', 2: 'MC', 3: 'Real Madrid', 4: 0, 5: 0, 6: 0, 7: 0, 8: 0, 9: 0, 10: 'Cádiz', 11: False, 12: '3,3', 13: '5,0', 14: 23, 15: '1,88m', 16: 0, 17: 0, 18: 0, 19: 0, 20: 0, 21: 0, 22: 0, 23: 0, 24: 0, 25: 0, 26: 0, 27: 0, 28: 0, 29: 0, 30: 0, 31: 0, 32: 0, 33: 0, 34: 0, 35: 0, 36: 0, 37: 0, 38: 0, 39: 0, 40: 0, 41: 0, 42: 0, 43: 0, 44: 0, 45: 0, 46: 0, 47: 0, 48: 0, 49: 0, 50: 0, 51: 0, 52: 0, 53: 0, 54: 0, 55: 'Injury', 56: 0, 57: 0}\n",
      "\n",
      "Coincidencia en ../data/test_precedecir\\dataset_training_without_Missing_Values_without_Useless_Atributes2prueba.xlsx, fila 373: {0: 'Frenkie De Jong', 1: '15.189.000', 2: 'MC', 3: 'Barcelona', 4: 0, 5: 0, 6: 0, 7: 0, 8: 0, 9: 0, 10: 'Rayo Vallecano', 11: False, 12: '5,7', 13: '9,3', 14: 26, 15: '1,80m', 16: '70kg', 17: 0, 18: 0, 19: 0, 20: 0, 21: 0, 22: 0, 23: 0, 24: 0, 25: 0, 26: 0, 27: 0, 28: 0, 29: 0, 30: 0, 31: 0, 32: 0, 33: 0, 34: 0, 35: 0, 36: 0, 37: 0, 38: 0, 39: 0, 40: 0, 41: 0, 42: 0, 43: 0, 44: 0, 45: 0, 46: 0, 47: 0, 48: 0, 49: 0, 50: 0, 51: 0, 52: 0, 53: 0, 54: 0, 55: 'Injury', 56: 0, 57: 0}\n",
      "\n",
      "Coincidencia en ../data/test_precedecir\\dataset_training_without_Missing_Values_without_Useless_Atributes2prueba.xlsx, fila 379: {0: 'Giorgi Mamardashvili', 1: 1522000, 2: 'PT', 3: 'Valencia', 4: 1, 5: 1, 6: 1, 7: 1, 8: 'Granada', 9: 'Win', 10: 'Celta de Vigo', 11: True, 12: 1.2, 13: 5.8, 14: 23, 15: '2,00m', 16: 0, 17: 6.9, 18: \"90'\", 19: 1, 20: 1, 21: 0.02, 22: 0, 23: '0 (0)', 24: 0, 25: 10, 26: '1/22 (59%)', 27: 0, 28: '0 (0)', 29: '14 (5)', 30: 0, 31: 0, 32: 0, 33: 0, 34: 0, 35: '0 (0)', 36: '0 (0)', 37: 0, 38: 0, 39: 0, 40: 0, 41: 0, 42: '0 (0)', 43: 0, 44: 0, 45: 0, 46: 0, 47: 0, 48: 0, 49: 0, 50: 0, 51: 0, 52: 0, 53: 0, 54: 0, 55: nan, 56: 0, 57: 0}\n",
      "\n"
     ]
    }
   ],
   "source": [
    "# Ruta a la carpeta que contiene los archivos Excel\n",
    "carpeta_excel = \"../data/test_precedecir\"\n",
    "\n",
    "# Lista global para almacenar todas las filas seleccionadas\n",
    "filas_jugadores = []\n",
    "\n",
    "# Lista todos los archivos en la carpeta con extensión .xlsx\n",
    "archivos_excel = [archivo for archivo in os.listdir(carpeta_excel) if archivo.endswith(\".xlsx\")]\n",
    "\n",
    "# Itera sobre cada archivo Excel en la carpeta\n",
    "for archivo in archivos_excel:\n",
    "    \n",
    "    print(\"\\n\" + \"=\" * 150 + \"\\n\")  # Separador visual entre archivos\n",
    "    \n",
    "    # Ruta al archivo Excel actual\n",
    "    ruta_archivo = os.path.join(carpeta_excel, archivo)\n",
    "\n",
    "    # Lee el archivo Excel con pandas y especifica que no hay encabezado\n",
    "    df = pd.read_excel(ruta_archivo, header=None)\n",
    "\n",
    "    # Obtén los valores de la primera columna (o cualquier columna que desees)\n",
    "    valores_Historico = df.iloc[:, 0].tolist()\n",
    "\n",
    "    # Llama a la función encontrar_coincidencias y actualiza los valores de los índices\n",
    "    posiciones_coincidentes = encontrar_coincidencias(valores_Historico, valores_Mercado)\n",
    "    \n",
    "    # Accede a las filas correspondientes a los índices proporcionados\n",
    "    filas_seleccionadas = df.iloc[posiciones_coincidentes]\n",
    "\n",
    "    # Convierte las filas seleccionadas a una lista de diccionarios para un fácil acceso a los atributos\n",
    "    datos_filas = filas_seleccionadas.to_dict(orient='records')\n",
    "\n",
    "    # Agrega las filas seleccionadas a la lista global\n",
    "    global filas_jugadores\n",
    "    filas_jugadores.extend(datos_filas)\n",
    "\n",
    "    # Imprime los datos de las filas seleccionadas\n",
    "    for idx, fila in zip(posiciones_coincidentes, datos_filas):\n",
    "        print(f\"Coincidencia en {ruta_archivo}, fila {idx}: {fila}\\n\")\n",
    "\n",
    "# Ahora, filas_jugadores contiene todas las filas seleccionadas de todos los archivos Excel"
   ]
  },
  {
   "cell_type": "code",
   "execution_count": 105,
   "id": "5cbf2eb8-e659-4588-81b1-9aba2a6f31af",
   "metadata": {
    "tags": []
   },
   "outputs": [
    {
     "name": "stdout",
     "output_type": "stream",
     "text": [
      "El nombre Anastasios Douvikas está duplicado en la lista en el índice 28 :: 14.\n",
      "El nombre Adrià Pedrosa está duplicado en la lista en el índice 28 :: 15.\n",
      "El nombre Nemanja Maksimović está duplicado en la lista en el índice 28 :: 16.\n",
      "El nombre Chris Ramos está duplicado en la lista en el índice 28 :: 17.\n",
      "El nombre Álvaro Morata está duplicado en la lista en el índice 28 :: 18.\n",
      "El nombre Marcos Llorente está duplicado en la lista en el índice 28 :: 19.\n",
      "El nombre Eric García está duplicado en la lista en el índice 28 :: 20.\n",
      "El nombre Yan Couto está duplicado en la lista en el índice 28 :: 21.\n",
      "El nombre Viktor Tsygankov está duplicado en la lista en el índice 28 :: 22.\n",
      "El nombre Pablo Torre está duplicado en la lista en el índice 28 :: 23.\n",
      "El nombre Antonio Rüdiger está duplicado en la lista en el índice 28 :: 24.\n",
      "El nombre Aurélien Tchouaméni está duplicado en la lista en el índice 28 :: 25.\n",
      "El nombre Frenkie De Jong está duplicado en la lista en el índice 28 :: 26.\n",
      "El nombre Giorgi Mamardashvili está duplicado en la lista en el índice 28 :: 27.\n"
     ]
    }
   ],
   "source": [
    "nombres_vistos = set()\n",
    "\n",
    "for indice, fila_jugador in enumerate(filas_jugadores):\n",
    "    nombre_jugador = fila_jugador[0]\n",
    "\n",
    "    # Verifica si el nombre del jugador ya ha sido visto\n",
    "    if nombre_jugador in nombres_vistos:\n",
    "        print(f\"El nombre {nombre_jugador} está duplicado en la lista en el índice {indiceO} :: {indice}.\")\n",
    "        # Puedes realizar alguna acción adicional si encuentras un duplicado\n",
    "    else:\n",
    "        # Agrega el nombre del jugador al conjunto de nombres vistos\n",
    "        nombres_vistos.add(nombre_jugador)"
   ]
  }
 ],
 "metadata": {
  "kernelspec": {
   "display_name": "Python 3 (ipykernel)",
   "language": "python",
   "name": "python3"
  },
  "language_info": {
   "codemirror_mode": {
    "name": "ipython",
    "version": 3
   },
   "file_extension": ".py",
   "mimetype": "text/x-python",
   "name": "python",
   "nbconvert_exporter": "python",
   "pygments_lexer": "ipython3",
   "version": "3.11.5"
  }
 },
 "nbformat": 4,
 "nbformat_minor": 5
}
