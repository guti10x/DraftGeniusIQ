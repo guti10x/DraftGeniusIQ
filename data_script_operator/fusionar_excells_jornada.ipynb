{
 "cells": [
  {
   "cell_type": "markdown",
   "id": "6d426cdb-84a0-468a-a669-02892bc619aa",
   "metadata": {},
   "source": [
    "# FUSIONAR EXCELLS"
   ]
  },
  {
   "cell_type": "code",
   "execution_count": 3,
   "id": "02398c73-a1b1-4919-864f-057f507621e0",
   "metadata": {},
   "outputs": [],
   "source": [
    "import pandas as pd\n",
    "import os "
   ]
  },
  {
   "cell_type": "code",
   "execution_count": 9,
   "id": "a7c4d0ce-5e64-47a5-856a-10ecaf976b6a",
   "metadata": {},
   "outputs": [
    {
     "name": "stdout",
     "output_type": "stream",
     "text": [
      "Archivos Excel fusionados exitosamente\n"
     ]
    }
   ],
   "source": [
    "jornada=\"jornada_13\"\n",
    "# Ruta de la carpeta que contiene los archivos Excel\n",
    "carpeta_entrada = f\"../data/{jornada}\"\n",
    "\n",
    "# Obtener la lista de archivos en la carpeta de entrada\n",
    "archivos_excel = [archivo for archivo in os.listdir(carpeta_entrada) if archivo.endswith('.xlsx')]\n",
    "\n",
    "# Comprobar si hay archivos Excel en la carpeta\n",
    "if not archivos_excel:\n",
    "    print(\"No hay archivos Excel (.xlsx) en la carpeta de entrada.\")\n",
    "else:\n",
    "    # Crear una lista para almacenar los DataFrames individuales\n",
    "    lista_dataframes = []\n",
    "\n",
    "    # Iterar sobre cada archivo Excel y almacenar los DataFrames en la lista\n",
    "    for archivo in archivos_excel:\n",
    "        ruta_archivo = os.path.join(carpeta_entrada, archivo)\n",
    "        df = pd.read_excel(ruta_archivo)\n",
    "        lista_dataframes.append(df)\n",
    "\n",
    "    # Concatenar los DataFrames en uno solo\n",
    "    df_combinado = pd.concat(lista_dataframes, ignore_index=True)\n",
    "\n",
    "    # Guardar el DataFrame combinado en un nuevo archivo Excel\n",
    "    archivo_salida = f\"../data/{jornada}/dataset_{jornada}_todos_los_jugadores_MD_y_S.xlsx\"\n",
    "    df_combinado.to_excel(archivo_salida, index=False)\n",
    "    print(f\"Archivos Excel fusionados exitosamente\")\n"
   ]
  }
 ],
 "metadata": {
  "kernelspec": {
   "display_name": "Python 3 (ipykernel)",
   "language": "python",
   "name": "python3"
  },
  "language_info": {
   "codemirror_mode": {
    "name": "ipython",
    "version": 3
   },
   "file_extension": ".py",
   "mimetype": "text/x-python",
   "name": "python",
   "nbconvert_exporter": "python",
   "pygments_lexer": "ipython3",
   "version": "3.11.5"
  }
 },
 "nbformat": 4,
 "nbformat_minor": 5
}
