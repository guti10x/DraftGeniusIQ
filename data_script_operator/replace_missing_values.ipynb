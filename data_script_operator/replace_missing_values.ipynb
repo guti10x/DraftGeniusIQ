{
 "cells": [
  {
   "cell_type": "markdown",
   "id": "61c615e0-51d6-4a6e-9d55-1e6538eaa26b",
   "metadata": {},
   "source": [
    "# Replace Missing Value with \"NP\""
   ]
  },
  {
   "cell_type": "code",
   "execution_count": 27,
   "id": "874bee62-7605-4c7b-8449-d6b6e558c87e",
   "metadata": {
    "tags": []
   },
   "outputs": [],
   "source": [
    "import pandas as pd\n",
    "import openpyxl"
   ]
  },
  {
   "cell_type": "code",
   "execution_count": 28,
   "id": "ac7892b6-787a-4798-8306-b8a2cedf6888",
   "metadata": {},
   "outputs": [
    {
     "name": "stdout",
     "output_type": "stream",
     "text": [
      "Done\n"
     ]
    }
   ],
   "source": [
    "partido = \"dataset_jornada_13_todos_los_jugadores_MD_y_S\"\n",
    "jornada = \"jornada_13\"\n",
    "\n",
    "# Lee el archivo Excel\n",
    "df = pd.read_excel(f'../data/{jornada}/{partido}.xlsx')\n",
    "\n",
    "# Reemplaza los valores vacíos con \"NP\"\n",
    "df = df.fillna(0)\n",
    "df = df.replace('-', 0)\n",
    "\n",
    "# Reemplaza los valores iguales a 0 con un string en una columna específica\n",
    "columna = 'Ausencia'\n",
    "string_reemplazo = 'None'\n",
    "df[tu_columna] = df[columna].apply(lambda x: string_reemplazo if x == 0 else x)\n",
    "\n",
    "# Guarda el DataFrame modificado en un nuevo archivo Excel\n",
    "df.to_excel(f'../data/{jornada}/{partido}without_missin_values.xlsx', index=False)\n",
    "\n",
    "print(\"Done\")"
   ]
  }
 ],
 "metadata": {
  "kernelspec": {
   "display_name": "Python 3 (ipykernel)",
   "language": "python",
   "name": "python3"
  },
  "language_info": {
   "codemirror_mode": {
    "name": "ipython",
    "version": 3
   },
   "file_extension": ".py",
   "mimetype": "text/x-python",
   "name": "python",
   "nbconvert_exporter": "python",
   "pygments_lexer": "ipython3",
   "version": "3.11.5"
  }
 },
 "nbformat": 4,
 "nbformat_minor": 5
}
